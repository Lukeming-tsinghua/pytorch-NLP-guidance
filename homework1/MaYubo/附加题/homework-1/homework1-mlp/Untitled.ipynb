{
 "cells": [
  {
   "cell_type": "code",
   "execution_count": 7,
   "metadata": {},
   "outputs": [],
   "source": [
    "import numpy as np\n",
    "import random"
   ]
  },
  {
   "cell_type": "code",
   "execution_count": 8,
   "metadata": {},
   "outputs": [
    {
     "name": "stdout",
     "output_type": "stream",
     "text": [
      "[ 0  1  2  3  4  5  6  7  8  9 10 11 12 13 14 15 16 17 18 19 20 21 22 23\n",
      " 24 25 26 27 28 29 30 31 32 33 34 35 36 37 38 39 40 41 42 43 44 45 46 47\n",
      " 48 49 50 51 52 53 54 55 56 57 58 59 60 61 62 63 64 65 66 67 68 69 70 71\n",
      " 72 73 74 75 76 77 78 79 80 81 82 83 84 85 86 87 88 89 90 91 92 93 94 95\n",
      " 96 97 98 99]\n"
     ]
    }
   ],
   "source": [
    "a = np.arange(0,100)\n",
    "print(a)"
   ]
  },
  {
   "cell_type": "code",
   "execution_count": 37,
   "metadata": {},
   "outputs": [
    {
     "name": "stdout",
     "output_type": "stream",
     "text": [
      "[ 0  1  4  7 10 11 15 16 17 19 20 21 22 25 26 29 30 36 42 43 44 45 46 47\n",
      " 48 49 50 56 58 60 62 63 64 65 67 69 71 73 74 75 76 77 79 80 82 83 88 92\n",
      " 94 98]\n",
      "[ 2  3  5  6  8  9 12 13 14 18 23 24 27 28 31 32 33 34 35 37 38 39 40 41\n",
      " 51 52 53 54 55 57 59 61 66 68 70 72 78 81 84 85 86 87 89 90 91 93 95 96\n",
      " 97 99]\n"
     ]
    }
   ],
   "source": [
    "index = np.random.choice(100,50,replace=False)\n",
    "print(np.sort(index))\n",
    "print(np.sort(np.setdiff1d(np.arange(0,100),index)))"
   ]
  },
  {
   "cell_type": "code",
   "execution_count": 12,
   "metadata": {},
   "outputs": [
    {
     "name": "stdout",
     "output_type": "stream",
     "text": [
      "[ 6 35  8 10 50 48 38  3 29 34 90 25  7 66 42 48 15 27 89 87 33 82 39 40\n",
      " 50 89 44 31 40 42 38 54 41 90 77 16 52 44  4 59 20  9 48  9 18 42 89 28\n",
      " 96 63]\n"
     ]
    }
   ],
   "source": [
    "print(a[-index,])"
   ]
  }
 ],
 "metadata": {
  "kernelspec": {
   "display_name": "Python [conda env:python36] *",
   "language": "python",
   "name": "conda-env-python36-py"
  },
  "language_info": {
   "codemirror_mode": {
    "name": "ipython",
    "version": 3
   },
   "file_extension": ".py",
   "mimetype": "text/x-python",
   "name": "python",
   "nbconvert_exporter": "python",
   "pygments_lexer": "ipython3",
   "version": "3.6.9"
  }
 },
 "nbformat": 4,
 "nbformat_minor": 2
}
